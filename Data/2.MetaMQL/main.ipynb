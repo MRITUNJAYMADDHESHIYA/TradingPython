{
 "cells": [
  {
   "cell_type": "code",
   "execution_count": 2,
   "metadata": {},
   "outputs": [],
   "source": [
    "import MetaTrader5 as mt5\n",
    "import pandas as pd\n"
   ]
  },
  {
   "cell_type": "code",
   "execution_count": 13,
   "metadata": {},
   "outputs": [
    {
     "name": "stdout",
     "output_type": "stream",
     "text": [
      "                         time      open      high       low     close  \\\n",
      "0   2025-02-12 06:55:00+05:30  2890.693  2893.124  2890.172  2891.979   \n",
      "1   2025-02-12 07:00:00+05:30  2892.009  2892.080  2883.760  2891.186   \n",
      "2   2025-02-12 07:05:00+05:30  2891.220  2894.145  2889.786  2893.975   \n",
      "3   2025-02-12 07:10:00+05:30  2893.925  2894.766  2892.426  2893.618   \n",
      "4   2025-02-12 07:15:00+05:30  2893.731  2895.985  2893.082  2894.826   \n",
      "..                        ...       ...       ...       ...       ...   \n",
      "995 2025-02-17 20:55:00+05:30  2901.415  2901.415  2899.263  2899.592   \n",
      "996 2025-02-17 21:00:00+05:30  2899.581  2901.063  2899.581  2900.838   \n",
      "997 2025-02-17 21:05:00+05:30  2900.875  2901.303  2900.284  2900.497   \n",
      "998 2025-02-17 21:10:00+05:30  2900.471  2900.988  2899.125  2899.356   \n",
      "999 2025-02-17 21:15:00+05:30  2899.369  2900.045  2898.527  2898.833   \n",
      "\n",
      "     tick_volume  spread  real_volume  \n",
      "0           1091     160            0  \n",
      "1           2565     159            0  \n",
      "2           2247     159            0  \n",
      "3           1550     159            0  \n",
      "4           1242     159            0  \n",
      "..           ...     ...          ...  \n",
      "995          693     160            0  \n",
      "996          483     160            0  \n",
      "997          529     160            0  \n",
      "998          494     160            0  \n",
      "999          705     159            0  \n",
      "\n",
      "[1000 rows x 8 columns]\n"
     ]
    },
    {
     "data": {
      "text/plain": [
       "True"
      ]
     },
     "execution_count": 13,
     "metadata": {},
     "output_type": "execute_result"
    }
   ],
   "source": [
    "if not mt5.initialize():\n",
    "    print(\"Failed to initialize MetaTrader 5\")\n",
    "    mt5.shutdown()\n",
    "\n",
    "symbol = \"XAUUSDm\"\n",
    "data = mt5.copy_rates_from_pos(symbol, mt5.TIMEFRAME_M5, 0, 1000)\n",
    "\n",
    "# Convert to DataFrame\n",
    "df = pd.DataFrame(data)\n",
    "df['time'] = pd.to_datetime(df['time'], unit='s', utc=True)  # Convert timestamp\n",
    "df['time'] = df['time'].dt.tz_convert('Asia/Kolkata')\n",
    "print(df)\n",
    "\n",
    "mt5.shutdown()"
   ]
  },
  {
   "cell_type": "code",
   "execution_count": null,
   "metadata": {},
   "outputs": [],
   "source": []
  },
  {
   "cell_type": "code",
   "execution_count": null,
   "metadata": {},
   "outputs": [],
   "source": []
  }
 ],
 "metadata": {
  "kernelspec": {
   "display_name": "Python 3",
   "language": "python",
   "name": "python3"
  },
  "language_info": {
   "codemirror_mode": {
    "name": "ipython",
    "version": 3
   },
   "file_extension": ".py",
   "mimetype": "text/x-python",
   "name": "python",
   "nbconvert_exporter": "python",
   "pygments_lexer": "ipython3",
   "version": "3.11.5"
  }
 },
 "nbformat": 4,
 "nbformat_minor": 2
}
